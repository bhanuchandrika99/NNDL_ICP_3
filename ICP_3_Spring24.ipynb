{
 "cells": [
  {
   "cell_type": "code",
   "execution_count": 1,
   "id": "14451546",
   "metadata": {},
   "outputs": [
    {
     "name": "stdout",
     "output_type": "stream",
     "text": [
      "Number of employees: 4\n",
      "Average salary: 62500.0\n"
     ]
    }
   ],
   "source": [
    "class Employee:\n",
    "    num_employees = 0\n",
    "\n",
    "    def __init__(self, name, family, salary, department):\n",
    "        self.name = name\n",
    "        self.family = family\n",
    "        self.salary = salary\n",
    "        self.department = department\n",
    "        Employee.num_employees += 1\n",
    "\n",
    "    @staticmethod\n",
    "    def average_salary(salary_list):\n",
    "        if len(salary_list) == 0:\n",
    "            return 0\n",
    "        return sum(salary_list) / len(salary_list)\n",
    "\n",
    "\n",
    "class FulltimeEmployee(Employee):\n",
    "    def __init__(self, name, family, salary, department):\n",
    "        super().__init__(name, family, salary, department)\n",
    "\n",
    "\n",
    "# Creating instances of Employee and FulltimeEmployee classes\n",
    "employee1 = Employee(\"Jimmy Carter\", \"Carter\", 40000, \"Human Resources\")\n",
    "employee2 = Employee(\"Ryan Gosling\", \"Gosling\", 60000, \"Finance\")\n",
    "\n",
    "fulltime_employee1 = FulltimeEmployee(\"Tom Hanks\", \"Hanks\", 70000, \"Marketing\")\n",
    "fulltime_employee2 = FulltimeEmployee(\"Bobby Brown\", \"Brown\", 80000, \"Engineering\")\n",
    "\n",
    "# Calling member functions\n",
    "print(\"Number of employees:\", Employee.num_employees)\n",
    "\n",
    "salaries = [employee1.salary, employee2.salary, fulltime_employee1.salary, fulltime_employee2.salary]\n",
    "print(\"Average salary:\", Employee.average_salary(salaries))\n"
   ]
  },
  {
   "cell_type": "code",
   "execution_count": 5,
   "id": "8992e24e",
   "metadata": {},
   "outputs": [
    {
     "name": "stdout",
     "output_type": "stream",
     "text": [
      "[[ 3.82742505  0.         17.61506028  5.21816866  6.57518762]\n",
      " [ 5.72294301  4.08979337  0.         12.8257235   9.54239631]\n",
      " [ 2.91408116  3.1310031   0.          5.82377181  1.07556005]\n",
      " [ 0.          2.33555267  9.64495385 14.15770628  2.23730037]]\n"
     ]
    }
   ],
   "source": [
    "import numpy as np\n",
    "\n",
    "# Create a random vector of size 20 with floats in the range 1-20\n",
    "random_vector = np.random.uniform(1, 20, 20)\n",
    "\n",
    "# Reshape the array to 4 by 5\n",
    "reshaped_array = random_vector.reshape(4, 5)\n",
    "\n",
    "# Replace the max in each row by 0 along axis=1\n",
    "reshaped_array[np.arange(4), np.argmax(reshaped_array, axis=1)] = 0\n",
    "\n",
    "print(reshaped_array)"
   ]
  }
 ],
 "metadata": {
  "kernelspec": {
   "display_name": "Python 3 (ipykernel)",
   "language": "python",
   "name": "python3"
  },
  "language_info": {
   "codemirror_mode": {
    "name": "ipython",
    "version": 3
   },
   "file_extension": ".py",
   "mimetype": "text/x-python",
   "name": "python",
   "nbconvert_exporter": "python",
   "pygments_lexer": "ipython3",
   "version": "3.11.3"
  }
 },
 "nbformat": 4,
 "nbformat_minor": 5
}
